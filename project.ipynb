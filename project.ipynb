{
  "nbformat": 4,
  "nbformat_minor": 0,
  "metadata": {
    "colab": {
      "name": "project.ipynb",
      "provenance": [],
      "authorship_tag": "ABX9TyOfL+8Sr1rVYi75snR44cuX",
      "include_colab_link": true
    },
    "kernelspec": {
      "name": "python3",
      "display_name": "Python 3"
    }
  },
  "cells": [
    {
      "cell_type": "markdown",
      "metadata": {
        "id": "view-in-github",
        "colab_type": "text"
      },
      "source": [
        "<a href=\"https://colab.research.google.com/github/abhignas/Codeforces/blob/master/project.ipynb\" target=\"_parent\"><img src=\"https://colab.research.google.com/assets/colab-badge.svg\" alt=\"Open In Colab\"/></a>"
      ]
    },
    {
      "cell_type": "code",
      "metadata": {
        "id": "0YE_5w19Vg4_",
        "colab_type": "code",
        "colab": {
          "base_uri": "https://localhost:8080/",
          "height": 70
        },
        "outputId": "59df132a-0c80-44c6-b347-fd9960573023"
      },
      "source": [
        "!pip install selenium"
      ],
      "execution_count": null,
      "outputs": [
        {
          "output_type": "stream",
          "text": [
            "Requirement already satisfied: selenium in /usr/local/lib/python3.6/dist-packages (3.141.0)\n",
            "Requirement already satisfied: urllib3 in /usr/local/lib/python3.6/dist-packages (from selenium) (1.24.3)\n"
          ],
          "name": "stdout"
        }
      ]
    },
    {
      "cell_type": "code",
      "metadata": {
        "id": "KDFbn78IVnFc",
        "colab_type": "code",
        "colab": {
          "base_uri": "https://localhost:8080/",
          "height": 238
        },
        "outputId": "58aa7cd7-897f-432b-f531-833b67b88b80"
      },
      "source": [
        "!sudo apt-get update"
      ],
      "execution_count": null,
      "outputs": [
        {
          "output_type": "stream",
          "text": [
            "\r0% [Working]\r            \rHit:1 http://security.ubuntu.com/ubuntu bionic-security InRelease\n",
            "\r0% [Connecting to archive.ubuntu.com (91.189.88.142)] [Connecting to cloud.r-pr\r0% [1 InRelease gpgv 88.7 kB] [Connecting to archive.ubuntu.com (91.189.88.142)\r                                                                               \rIgn:2 https://developer.download.nvidia.com/compute/cuda/repos/ubuntu1804/x86_64  InRelease\n",
            "\r0% [1 InRelease gpgv 88.7 kB] [Waiting for headers] [Connecting to cloud.r-proj\r                                                                               \rIgn:3 https://developer.download.nvidia.com/compute/machine-learning/repos/ubuntu1804/x86_64  InRelease\n",
            "\r0% [1 InRelease gpgv 88.7 kB] [Waiting for headers] [Connecting to cloud.r-proj\r0% [Waiting for headers] [Connecting to cloud.r-project.org] [Waiting for heade\r                                                                               \rHit:4 https://developer.download.nvidia.com/compute/cuda/repos/ubuntu1804/x86_64  Release\n",
            "\r0% [Waiting for headers] [Connecting to cloud.r-project.org] [Waiting for heade\r0% [Release.gpg gpgv 564 B] [Waiting for headers] [Connecting to cloud.r-projec\r                                                                               \rHit:5 https://developer.download.nvidia.com/compute/machine-learning/repos/ubuntu1804/x86_64  Release\n",
            "\r0% [Release.gpg gpgv 564 B] [Waiting for headers] [Connecting to cloud.r-projec\r                                                                               \rHit:6 http://archive.ubuntu.com/ubuntu bionic InRelease\n",
            "\r0% [Release.gpg gpgv 564 B] [Waiting for headers] [Connecting to cloud.r-projec\r                                                                               \rHit:7 http://ppa.launchpad.net/graphics-drivers/ppa/ubuntu bionic InRelease\n",
            "\r0% [Release.gpg gpgv 564 B] [Waiting for headers] [Connecting to cloud.r-projec\r0% [Waiting for headers] [Connecting to cloud.r-project.org] [Connecting to ppa\r0% [Release.gpg gpgv 564 B] [Waiting for headers] [Connecting to cloud.r-projec\r                                                                               \rHit:9 http://archive.ubuntu.com/ubuntu bionic-updates InRelease\n",
            "\r0% [Release.gpg gpgv 564 B] [Waiting for headers] [Connecting to cloud.r-projec\r0% [Waiting for headers] [Connecting to cloud.r-project.org] [Waiting for heade\r0% [6 InRelease gpgv 242 kB] [Waiting for headers] [Connecting to cloud.r-proje\r                                                                               \rHit:11 http://archive.ubuntu.com/ubuntu bionic-backports InRelease\n",
            "\r0% [6 InRelease gpgv 242 kB] [Connecting to cloud.r-project.org (13.227.47.117)\r                                                                               \rHit:12 http://ppa.launchpad.net/marutter/c2d4u3.5/ubuntu bionic InRelease\n",
            "Hit:13 https://cloud.r-project.org/bin/linux/ubuntu bionic-cran35/ InRelease\n",
            "Reading package lists... Done\n"
          ],
          "name": "stdout"
        }
      ]
    },
    {
      "cell_type": "code",
      "metadata": {
        "id": "94fDItWmVvcM",
        "colab_type": "code",
        "colab": {
          "base_uri": "https://localhost:8080/",
          "height": 121
        },
        "outputId": "0f9b2e44-ebc4-4a5d-c60b-c2efe6c3216d"
      },
      "source": [
        "!apt install chromium-chromedriver"
      ],
      "execution_count": null,
      "outputs": [
        {
          "output_type": "stream",
          "text": [
            "Reading package lists... Done\n",
            "Building dependency tree       \n",
            "Reading state information... Done\n",
            "chromium-chromedriver is already the newest version (81.0.4044.138-0ubuntu0.18.04.1).\n",
            "0 upgraded, 0 newly installed, 0 to remove and 59 not upgraded.\n"
          ],
          "name": "stdout"
        }
      ]
    },
    {
      "cell_type": "code",
      "metadata": {
        "id": "2UCZhP5EWO0w",
        "colab_type": "code",
        "colab": {}
      },
      "source": [
        "import sys\n",
        "sys.path.insert(0,'/usr/lib/chromium-browser/chromedriver')"
      ],
      "execution_count": null,
      "outputs": []
    },
    {
      "cell_type": "code",
      "metadata": {
        "id": "1QcpGO1tVQb3",
        "colab_type": "code",
        "colab": {}
      },
      "source": [
        "from selenium import webdriver"
      ],
      "execution_count": null,
      "outputs": []
    },
    {
      "cell_type": "code",
      "metadata": {
        "id": "xWHjS6q6WWHi",
        "colab_type": "code",
        "colab": {
          "base_uri": "https://localhost:8080/",
          "height": 70
        },
        "outputId": "5aa4c9d7-5fe7-467d-a538-5f68286d5508"
      },
      "source": [
        "c_op=webdriver.ChromeOptions()\n",
        "c_op.add_argument('--headless')\n",
        "c_op.add_argument('--no-sandbox')\n",
        "c_op.add_argument('--disable-dev-shm-usage')\n",
        "wd=webdriver.Chrome('chromedriver',chrome_options=c_op)"
      ],
      "execution_count": null,
      "outputs": [
        {
          "output_type": "stream",
          "text": [
            "/usr/local/lib/python3.6/dist-packages/ipykernel_launcher.py:5: DeprecationWarning: use options instead of chrome_options\n",
            "  \"\"\"\n"
          ],
          "name": "stderr"
        }
      ]
    },
    {
      "cell_type": "code",
      "metadata": {
        "id": "ST0TzypRT5lc",
        "colab_type": "code",
        "colab": {}
      },
      "source": [
        "wd.get(\"https://www.flipkart.com/mobiles/pr?sid=tyy,4io&otracker=categorytree\")"
      ],
      "execution_count": null,
      "outputs": []
    },
    {
      "cell_type": "code",
      "metadata": {
        "id": "TfCLRaW2Wcv7",
        "colab_type": "code",
        "colab": {
          "base_uri": "https://localhost:8080/",
          "height": 34
        },
        "outputId": "aea6ea33-b260-406e-dd52-ac1f1fe67ac5"
      },
      "source": [
        "heads=wd.find_element_by_class_name(\"tVe95H\")\n",
        "print(heads.text)"
      ],
      "execution_count": null,
      "outputs": [
        {
          "output_type": "stream",
          "text": [
            "3 GB RAM | 32 GB ROM | Expandable Upto 256 GB\n"
          ],
          "name": "stdout"
        }
      ]
    },
    {
      "cell_type": "code",
      "metadata": {
        "id": "puVHMbNVXKbA",
        "colab_type": "code",
        "colab": {}
      },
      "source": [
        "heads=wd.find_elements_by_class_name(\"tVe95H\")\n",
        "for i in heads:\n",
        "  print(i.text)"
      ],
      "execution_count": null,
      "outputs": []
    },
    {
      "cell_type": "code",
      "metadata": {
        "id": "1AInJUEeXSdX",
        "colab_type": "code",
        "colab": {
          "base_uri": "https://localhost:8080/",
          "height": 1000
        },
        "outputId": "8e1f1eeb-c089-42b4-9c66-de980d9a6c8b"
      },
      "source": [
        "cnt=0\n",
        "for j in range(11):\n",
        "  wd.get('https://www.flipkart.com/mobiles/mi~brand/pr?sid=tyy%2C4io&otracker=clp_metro_expandable_2_5.metroExpandable.METRO_EXPANDABLE_mobile-phones-store_ZHYC957RFL_wp3&fm=neo%2Fmerchandising&iid=M_1088a008-c474-4f51-a780-558a0e8cfa6a_5.ZHYC957RFL&ppt=clp&ppn=mobile-phones-store&ssid=qpcrx1fvww0000001589812470507&page={}'.format(j))\n",
        "  \n",
        "  dd = wd.find_elements_by_class_name(\"_3wU53n\")\n",
        "\n",
        "  prices = wd.find_elements_by_class_name(\"_1vC4OE._2rQ-NK\")\n",
        "  \n",
        "  ram= wd.find_elements_by_class_name(\"tVe95H\")\n",
        "\n",
        "  for i in range(len(dd)):\n",
        "    #k=ram[i].split()\n",
        "\n",
        "    print(dd[i].text,prices[i].text,ram[i].text)\n",
        "    \n",
        "    cnt+=1\n",
        "\n",
        "print(cnt)"
      ],
      "execution_count": null,
      "outputs": [
        {
          "output_type": "stream",
          "text": [
            "Redmi Note 6 Pro (Red, 64 GB) ₹11,999 6 GB RAM | 64 GB ROM | Expandable Upto 256 GB\n",
            "Redmi Note 7 Pro (Space Black, 64 GB) ₹12,999 15.9 cm (6.26 inch) Full HD+ Display\n",
            "Mi A2 (Black, 64 GB) ₹10,599 12MP + 5MP | 20MP + 2MP Dual Front Camera\n",
            "Redmi Note 7 Pro (Astro Moonlight White, 128 GB) ₹13,999 4000 mAh Li-polymer Battery\n",
            "Redmi 8 (Onyx Black, 64 GB) ₹9,499 Qualcomm Snapdragon 636 Processor\n",
            "Redmi Note 8 (Cosmic Purple, 128 GB) ₹15,890 Brand Warranty of 1 Year Available for Mobile and 6 Months for Accessories\n",
            "Redmi Note 8 (Neptune Blue, 128 GB) ₹15,986 6 GB RAM | 64 GB ROM | Expandable Upto 256 GB\n",
            "Redmi 8A (Sunset Red, 32 GB) ₹6,999 16.0 cm (6.3 inch) Full HD+ Display\n",
            "Redmi Note 7 Pro (Neptune Blue, 128 GB) ₹13,999 48MP + 5MP | 13MP Front Camera\n",
            "Redmi Note 8 (Neptune Blue, 32 GB) ₹10,978 4000 mAh Li-polymer Battery\n",
            "Redmi Note 8 (Moonlight White, 128 GB) ₹15,990 Qualcomm Snapdragon 675 Processor\n",
            "Redmi Note 7S (Onyx Black, 64 GB) ₹11,999 Splash Proof - Protected by P2i\n",
            "Redmi 8 (Ruby Red, 64 GB) ₹9,499 Quick Charge 4.0 Support\n",
            "Redmi Note 6 Pro (Rose Gold, 64 GB) ₹11,999 Brand Warranty of 1 Year Available for Mobile and 6 Months for Accessories\n",
            "Redmi Note 6 Pro (Black, 64 GB) ₹11,999 4 GB RAM | 64 GB ROM\n",
            "Redmi Note 7 Pro (Neptune Blue, 64 GB) ₹10,999 15.21 cm (5.99 inch) Full HD+ Display\n",
            "Redmi Note 7 Pro (Space Black, 128 GB) ₹13,999 20MP + 12MP | 20MP Front Camera\n",
            "Redmi Note 8 (Space Black, 64 GB) ₹9,998 3010 mAh Battery\n",
            "Redmi 8 (Sapphire Blue, 64 GB) ₹9,499 Qualcomm Snapdragon 660 AIE Processor\n",
            "Redmi Note 7 Pro (Nebula Red, 128 GB) ₹13,999 Brand Warranty of 1 Year Available for Mobile and 6 Months for Battery and Accessories\n",
            "Redmi Note 7S (Sapphire Blue, 64 GB) ₹11,999 6 GB RAM | 128 GB ROM | Expandable Upto 256 GB\n",
            "Redmi 8A (Ocean Blue, 32 GB) ₹6,999 16.0 cm (6.3 inch) Full HD+ Display\n",
            "Redmi 8A (Midnight Black, 32 GB) ₹6,999 48MP + 5MP | 13MP Front Camera\n",
            "Redmi Note 5 (Black, 64 GB) ₹11,999 4000 mAh Li-polymer Battery\n",
            "Redmi Note 6 Pro (Red, 64 GB) ₹11,999 6 GB RAM | 64 GB ROM | Expandable Upto 256 GB\n",
            "Redmi Note 7 Pro (Space Black, 64 GB) ₹12,999 15.9 cm (6.26 inch) Full HD+ Display\n",
            "Mi A2 (Black, 64 GB) ₹10,599 12MP + 5MP | 20MP + 2MP Dual Front Camera\n",
            "Redmi Note 7 Pro (Astro Moonlight White, 128 GB) ₹13,999 4000 mAh Li-polymer Battery\n",
            "Redmi 8 (Onyx Black, 64 GB) ₹9,499 Qualcomm Snapdragon 636 Processor\n",
            "Redmi Note 8 (Cosmic Purple, 128 GB) ₹15,890 Brand Warranty of 1 Year Available for Mobile and 6 Months for Accessories\n",
            "Redmi Note 8 (Neptune Blue, 128 GB) ₹15,986 6 GB RAM | 64 GB ROM | Expandable Upto 256 GB\n",
            "Redmi 8A (Sunset Red, 32 GB) ₹6,999 16.0 cm (6.3 inch) Full HD+ Display\n",
            "Redmi Note 7 Pro (Neptune Blue, 128 GB) ₹13,999 48MP + 5MP | 13MP Front Camera\n",
            "Redmi Note 8 (Neptune Blue, 32 GB) ₹10,978 4000 mAh Li-polymer Battery\n",
            "Redmi Note 8 (Moonlight White, 128 GB) ₹15,990 Qualcomm Snapdragon 675 Processor\n",
            "Redmi Note 7S (Onyx Black, 64 GB) ₹11,999 Splash Proof - Protected by P2i\n",
            "Redmi 8 (Ruby Red, 64 GB) ₹9,499 Quick Charge 4.0 Support\n",
            "Redmi Note 6 Pro (Rose Gold, 64 GB) ₹11,999 Brand Warranty of 1 Year Available for Mobile and 6 Months for Accessories\n",
            "Redmi Note 6 Pro (Black, 64 GB) ₹11,999 4 GB RAM | 64 GB ROM\n",
            "Redmi Note 7 Pro (Neptune Blue, 64 GB) ₹10,999 15.21 cm (5.99 inch) Full HD+ Display\n",
            "Redmi Note 7 Pro (Space Black, 128 GB) ₹13,999 20MP + 12MP | 20MP Front Camera\n",
            "Redmi Note 8 (Space Black, 64 GB) ₹9,998 3010 mAh Battery\n",
            "Redmi 8 (Sapphire Blue, 64 GB) ₹9,499 Qualcomm Snapdragon 660 AIE Processor\n",
            "Redmi Note 7 Pro (Nebula Red, 128 GB) ₹13,999 Brand Warranty of 1 Year Available for Mobile and 6 Months for Battery and Accessories\n",
            "Redmi Note 7S (Sapphire Blue, 64 GB) ₹11,999 6 GB RAM | 128 GB ROM | Expandable Upto 256 GB\n",
            "Redmi 8A (Ocean Blue, 32 GB) ₹6,999 16.0 cm (6.3 inch) Full HD+ Display\n",
            "Redmi 8A (Midnight Black, 32 GB) ₹6,999 48MP + 5MP | 13MP Front Camera\n",
            "Redmi Note 5 (Black, 64 GB) ₹11,999 4000 mAh Li-polymer Battery\n",
            "Redmi Note 8 (Space Black, 128 GB) ₹14,999 6 GB RAM | 128 GB ROM\n",
            "Redmi K20 Pro (Flame Red, 128 GB) ₹26,999 16.0 cm (6.3 inch) Full HD+ Display\n",
            "Mi A3 (Kind of Grey, 64 GB) ₹12,999 48MP + 8MP | 13MP Front Camera\n",
            "Redmi Note 7 Pro (Neptune Blue, 64 GB) ₹12,999 4000 mAh Battery\n",
            "Redmi Y2 (Blue, 32 GB) ₹7,999 1 year manufacturer warranty for device and 6 months manufacturer warranty for in-box accessories including batteries from the date of purchase\n",
            "Mi A3 (Not just Blue, 128 GB) ₹14,999 6 GB RAM | 128 GB ROM\n",
            "Mi A3 (Kind of Grey, 128 GB) ₹14,999 16.23 cm (6.39 inch) Full HD+ Display\n",
            "Mi A3 (More Than White, 64 GB) ₹12,999 48MP + 13MP + 8MP | 20MP Front Camera\n",
            "Redmi Note 6 Pro (Red, 64 GB) ₹11,999 4000 mAh Li-polymer Battery\n",
            "Redmi Note 7S (Onyx Black, 32 GB) ₹9,999 Qualcomm Snapdragon 855 Processor\n",
            "Redmi Y2 (Black, 64 GB) ₹8,499 Brand Warranty of 1 Year Available for Mobile and 6 Months for Accessories\n",
            "Redmi 8A Dual (Sea Blue, 32 GB) ₹7,499 4 GB RAM | 64 GB ROM | Expandable Upto 256 GB\n",
            "Redmi 8A Dual (Midnight Grey, 32 GB) ₹7,399 15.44 cm (6.08 inch) HD+ Display\n",
            "Redmi 8A Dual (Midnight Grey, 32 GB) ₹7,499 48MP + 8MP + 2MP | 32MP Front Camera\n",
            "Mi A2 (Gold, 64 GB) ₹10,599 4030 mAh Battery\n",
            "Redmi K20 Pro (Flame Red, 256 GB) ₹29,999 Qualcomm Snapdragon 665 Processor\n",
            "Redmi Note 7 Pro (Astro Moonlight White, 64 GB) ₹12,999 Brand Warranty of 1 Year Available for Mobile and 6 Months for Accessories\n",
            "Redmi K20 Pro (Carbon Black, 128 GB) ₹26,999 6 GB RAM | 64 GB ROM | Expandable Upto 256 GB\n",
            "Mi A3 (Not just Blue, 64 GB) ₹12,999 16.0 cm (6.3 inch) Full HD+ Display\n",
            "Redmi Note 7 (Onyx Black, 32 GB) ₹9,999 48MP + 5MP | 13MP Front Camera\n",
            "Mi A2 (Red, 128 GB) ₹16,899 4000 mAh Li-polymer Battery\n",
            "Redmi K20 (Glacier Blue, 128 GB) ₹24,999 Qualcomm Snapdragon 675 Processor\n",
            "Redmi K20 Pro (Pearl White, 128 GB) ₹26,999 Splash Proof - Protected by P2i\n",
            "Redmi 7A (Matte Black, 32 GB) ₹6,699 Quick Charge 4.0 Support\n",
            "Redmi 6A (Blue, 16 GB) ₹5,690 2 GB RAM | 16 GB ROM | Expandable Upto 128 GB\n",
            "Redmi 6 (Rose Gold, 32 GB) ₹7,999 13.84 cm (5.45 inch) Display\n",
            "Redmi Note 5 Pro (Gold, 64 GB) ₹13,999 13MP Rear Camera | 5MP Front Camera\n",
            "Redmi 3S (Silver, 16 GB) ₹6,999 3000 mAh Battery\n",
            "Redmi 7A (Matte Black, 16 GB) ₹6,499 1 Year Manufacturer Warranty\n",
            "Redmi Y3 (Bold Red, 32 GB) ₹8,252 3 GB RAM | 32 GB ROM | Expandable Upto 256 GB\n",
            "Redmi Y3 (Elegant Blue, 32 GB) ₹8,369 13.84 cm (5.45 inch) HD+ Display\n",
            "Redmi Note 5 (Rose Gold, 32 GB) ₹10,999 12MP + 5MP | 5MP Front Camera\n",
            "Redmi 3S (Dark Grey, 16 GB) ₹6,999 3000 mAh Lithium-polymer Battery\n",
            "Redmi 6 Pro (Black, 32 GB) ₹7,999 2.0 GHz Mediatek P22 Octacore Processor\n",
            "Redmi 6 Pro (Lake Blue, 64 GB) ₹8,820 Brand Warranty of 1 Year Available for Mobile and 6 Months for Accessories\n",
            "Redmi 6 Pro (Rose Gold, 32 GB) ₹7,990 6 GB RAM | 64 GB ROM | Expandable Upto 128 GB\n",
            "Redmi 5 (Black, 64 GB) ₹8,999 15.21 cm (5.99 inch) Full HD+ Display\n",
            "Redmi K20 (Pearl White, 128 GB) ₹24,999 12MP + 5MP | 20MP Front Camera\n",
            "Redmi 6 (Gold, 64 GB) ₹8,499 4000 mAh Li Polymer Battery\n",
            "Mi Mix 2 (Black, 128 GB) ₹29,999 Qualcomm Snapdragon 636 Processor\n",
            "Redmi 6A (Black, 32 GB) ₹5,412 Brand Warranty of 1 Year Available for Mobile and 6 Months for Accessories\n",
            "Redmi 6A (Blue, 32 GB) ₹5,976 2 GB RAM | 16 GB ROM | Expandable Upto 128 GB\n",
            "Redmi 4A (Gold, 32 GB) ₹6,999 12.7 cm (5 inch) HD Display\n",
            "Redmi 7A (Matte Blue, 16 GB) ₹6,499 13MP Rear Camera | 5MP Front Camera\n",
            "Redmi Note 5 (Rose Gold, 64 GB) ₹8,490 4100 mAh Li-Ion Polymer Battery\n",
            "Redmi 7 (Lunar Red, 32 GB) ₹7,999 Qualcomm Snapdragon 430 64-bit Octa Core 1.4GHz Processor\n",
            "Redmi Note 7 (Ruby Red, 32 GB) ₹9,999 Brand Warranty of 1 Year Available for Mobile and 6 Months for Accessories\n",
            "Redmi Y1 lite (Gold, 16 GB) ₹7,499 2 GB RAM | 16 GB ROM | Expandable Upto 256 GB\n",
            "Redmi Note 7 (Ruby Red, 64 GB) ₹11,999 4 GB RAM | 64 GB ROM | Expandable Upto 256 GB\n",
            "Redmi K20 Pro (Glacier Blue, 256 GB) ₹29,999 16.0 cm (6.3 inch) Full HD+ Display\n",
            "Redmi Note 5 (Blue, 64 GB) ₹9,499 12MP + 2MP | 13MP Front Camera\n",
            "Redmi Note 7 Pro (Nebula Red, 64 GB) ₹10,999 4000 mAh Li-polymer Battery\n",
            "Redmi 4 (Black, 16 GB) ₹7,499 Qualcomm Snapdragon 660 AIE Processor\n",
            "Redmi 4 (Gold, 16 GB) ₹7,499 Splash Proof - Protected by P2i\n",
            "Redmi 4 (Black, 64 GB) ₹11,999 Quick Charge 4.0 Support\n",
            "Redmi 4 (Gold, 64 GB) ₹11,999 Brand Warranty of 1 Year Available for Mobile and 6 Months for Accessories\n",
            "Redmi Y1 lite (Rose Gold, 16 GB) ₹7,810 8 GB RAM | 256 GB ROM\n",
            "Redmi 4 (Gold, 32 GB) ₹8,999 16.23 cm (6.39 inch) Full HD+ Display\n",
            "Redmi 4 (Black, 32 GB) ₹9,189 48MP + 13MP + 8MP | 20MP Front Camera\n",
            "Redmi Note 7S (Astro Moonlight White, 32 GB) ₹9,999 4000 mAh Li-polymer Battery\n",
            "Mi 4i (Blue, 16 GB) ₹11,999 Qualcomm Snapdragon 855 Processor\n",
            "Redmi Y2 (Gold, 64 GB) ₹8,499 Brand Warranty of 1 Year Available for Mobile and 6 Months for Accessories\n",
            "Redmi 4A (Dark Grey, 32 GB) ₹6,999 4 GB RAM | 64 GB ROM | Expandable Upto 128 GB\n",
            "Redmi Y1 (Gold, 64 GB) ₹9,990 15.21 cm (5.99 inch) Full HD+ Display\n",
            "Redmi Y1 (Rose Gold, 32 GB) ₹8,699 12MP Rear Camera | 5MP Front Camera\n",
            "Mi A2 (Gold, 128 GB) ₹16,899 4000 mAh Li Polymer Battery\n",
            "Redmi 7 (Eclipse Black, 32 GB) ₹8,340 Qualcomm Snapdragon 625 Processor\n",
            "Mi 5 (White, 32 GB) ₹24,999 Brand Warranty of 1 Year Available for Mobile and 6 Months for Accessories\n",
            "Redmi 2 Prime (White, 16 GB) ₹6,999 4 GB RAM | 64 GB ROM | Expandable Upto 256 GB\n",
            "Redmi 5A (Blue, 32 GB) ₹6,999 16.0 cm (6.3 inch) Full HD+ Display\n",
            "Mi Max 2 (Black, 64 GB) ₹16,999 48MP + 5MP | 13MP Front Camera\n",
            "Redmi Note 7S (Ruby Red, 64 GB) ₹11,999 4000 mAh Li-polymer Battery\n",
            "Redmi 5 (Black, 32 GB) ₹7,990 3 GB RAM | 32 GB ROM | Expandable Upto 128 GB\n",
            "MI4 (White, 16 GB) ₹14,999 14.48 cm (5.7 inch) HD+ Display\n",
            "Redmi Note 9 Pro Max (Interstellar Black, 128 GB) ₹16,999 12MP Rear Camera | 5MP Front Camera\n",
            "Redmi 5 (Lake Blue, 64 GB) ₹7,918 3300 mAh Battery\n",
            "Redmi 5 (Gold, 32 GB) ₹7,990 Qualcomm Snapdragon 450 Processor\n",
            "Redmi 6A (Rose Gold, 32 GB) ₹5,742 Brand Warranty of 1 Year Available for Mobile and 6 Months for Accessories\n",
            "Redmi 6A (Gold, 16 GB) ₹5,589 3 GB RAM | 16 GB ROM\n",
            "Mi 4i (Grey, 16 GB) ₹10,999 12.7 cm (5 inch) Full HD Display\n",
            "Redmi Note 5 Pro (Blue, 64 GB) ₹13,999 13MP Rear Camera | 8MP Front Camera\n",
            "Redmi Y1 (Grey, 32 GB) ₹8,999 3080 mAh Lithium-ion Polymer Battery\n",
            "Redmi 5A (Gold, 32 GB) ₹6,999 Qualcomm MSM8274AC Snapdragon 801 Krait 400 Processor\n",
            "Redmi Note 9 Pro Max (Glacier White, 128 GB) ₹16,999 Brand Warranty of 1 Year Available for Mobile and 6 Months for Accessories\n",
            "Mi 4i (Grey, 32 GB) ₹14,999 6 GB RAM | 128 GB ROM | Expandable Upto 512 GB\n",
            "Redmi Note 5 Pro (Rose Gold, 64 GB) ₹13,999 16.94 cm (6.67 inch) Full HD+ Display\n",
            "Redmi Y2 (Gold, 32 GB) ₹7,999 64MP + 8MP + 5MP + 2MP | 32MP Front Camera\n",
            "Redmi 7 (Comet Blue, 32 GB) ₹8,290 5020 mAh Battery\n",
            "Redmi Note 8 (Moonlight White, 32 GB) ₹10,930 Qualcomm Snapdragon 720G Processor\n",
            "Redmi Note 5 (Gold, 64 GB) ₹8,148 1 year manufacturer warranty for device and 6 months manufacturer warranty for in-box accessories\n",
            "Redmi 6A (Gold, 32 GB) ₹5,742 4 GB RAM | 64 GB ROM | Expandable Upto 128 GB\n",
            "Redmi K20 (Flame Red, 64 GB) ₹21,999 14.48 cm (5.7 inch) HD Display\n",
            "Redmi Note 8 (Moonlight White, 64 GB) ₹12,999 12MP Rear Camera | 5MP Front Camera\n",
            "Redmi Note 8 (Neptune Blue, 64 GB) ₹12,993 3300 mAh Battery\n",
            "Redmi Note 7 Pro (Astro Moonlight White, 64 GB) ₹10,999 1 Year Brand Warranty\n",
            "Redmi 1S (Metal Gray, 8 GB) ₹5,999 3 GB RAM | 32 GB ROM | Expandable Upto 128 GB\n",
            "Redmi Note 4 (Black, 32 GB) ₹10,999 3 GB RAM | 32 GB ROM | Expandable Upto 128 GB\n",
            "Redmi Note 5 Pro (Blue, 64 GB) ₹12,999 13.97 cm (5.5 inch) Full HD Display\n",
            "Redmi Y2 (Black, 32 GB) ₹7,999 13MP Rear Camera | 5MP Front Camera\n",
            "Redmi Note 7 (Onyx Black, 64 GB) ₹11,999 4100 mAh Li-Polymer Battery\n",
            "Redmi Note 4 (Lake Blue, 64 GB) ₹12,999 Qualcomm Snapdragon 625 64-bit Octa Core 2GHz Processor\n",
            "Redmi Note 4 (Dark Grey, 64 GB) ₹12,999 Brand Warranty of 1 Year Available for Mobile and 6 Months for Accessories\n",
            "Mi 4i (White, 16 GB) ₹9,999 4 GB RAM | 64 GB ROM | Expandable Upto 128 GB\n",
            "Mi A1 (Rose Gold, 64 GB) ₹14,999 15.21 cm (5.99 inch) Full HD+ Display\n",
            "Mi A1 (Gold, 64 GB) ₹14,999 12MP + 5MP | 20MP Front Camera\n",
            "Redmi 7 (Lunar Red, 32 GB) ₹7,500 4000 mAh Li Polymer Battery\n",
            "Redmi 5A (Blue, 16 GB) ₹5,999 Qualcomm Snapdragon 636 Processor\n",
            "Mi A2 (Black, 128 GB) ₹16,899 Brand Warranty of 1 Year Available for Mobile and 6 Months for Accessories\n",
            "Mi A1 (Black, 64 GB) ₹14,999 3 GB RAM | 32 GB ROM | Expandable Upto 256 GB\n",
            "Redmi Note 6 Pro (Blue, 64 GB) ₹11,999 15.21 cm (5.99 inch) HD+ Display\n",
            "Redmi Note 5 (Blue, 32 GB) ₹10,999 12MP + 5MP | 16MP Front Camera\n",
            "Redmi Y2 (Rose Gold, 32 GB) ₹8,689 3080 mAh Li Polymer Battery\n",
            "Redmi Note 5 (Black, 32 GB) ₹10,999 Qualcomm Snapdragon 625 Processor\n",
            "Redmi Note 5 Pro (Rose Gold, 64 GB) ₹12,999 Brand Warranty of 1 Year Available for Mobile and 6 Months for Accessories\n",
            "Redmi Y1 (Gold, 32 GB) ₹8,999 4 GB RAM | 64 GB ROM | Expandable Upto 256 GB\n",
            "Redmi 3S (Gold, 16 GB) ₹6,999 16.0 cm (6.3 inch) Full HD+ Display\n",
            "Redmi 6 (Rose Gold, 32 GB) ₹7,999 12MP + 2MP | 13MP Front Camera\n",
            "Redmi 5 (Gold, 64 GB) ₹8,585 4000 mAh Li-polymer Battery\n",
            "Redmi 6 (Rose Gold, 64 GB) ₹8,499 Qualcomm Snapdragon 660 AIE Processor\n",
            "Redmi 6 Pro (Gold, 64 GB) ₹9,150 Splash Proof - Protected by P2i\n",
            "Redmi 6 (Black, 32 GB) ₹6,990 3 GB RAM | 32 GB ROM | Expandable Upto 256 GB\n",
            "Redmi Note 4 (Black, 64 GB) ₹9,990 13.84 cm (5.45 inch) HD+ Display\n",
            "Redmi 6 (Gold, 32 GB) ₹7,990 12MP + 5MP | 5MP Front Camera\n",
            "Redmi Note 6 Pro (Black, 64 GB) ₹12,990 3000 mAh Lithium-polymer Battery\n",
            "Redmi 6 (Blue, 32 GB) ₹8,490 2.0 GHz Mediatek P22 Octacore Processor\n",
            "Mi A1 (Red, 64 GB) ₹14,990 Brand Warranty of 1 Year Available for Mobile and 6 Months for Accessories\n",
            "Mi A2 (Rose Gold, 64 GB) ₹10,990 4 GB RAM | 64 GB ROM | Expandable Upto 128 GB\n",
            "175\n"
          ],
          "name": "stdout"
        }
      ]
    },
    {
      "cell_type": "code",
      "metadata": {
        "id": "pbhvbAiiIzP_",
        "colab_type": "code",
        "colab": {}
      },
      "source": [
        "wd.get(\"https://www.flipkart.com/mobiles/pr?sid=tyy,4io&otracker=categorytree\")"
      ],
      "execution_count": null,
      "outputs": []
    },
    {
      "cell_type": "code",
      "metadata": {
        "id": "LC0RkMbHIf2t",
        "colab_type": "code",
        "colab": {}
      },
      "source": [
        "ram = []\n",
        "mem = []\n",
        "price = []\n",
        "\n",
        "while len(ram)<=200:\n",
        "  char = wd.find_elements_by_class_name(\"tVe95H\")\n",
        "\n",
        "  for i in char:\n",
        "    temp = i.text.split()\n",
        "    if 'RAM' in temp and 'ROM' in temp:\n",
        "      ram.append(int(temp[temp.index('RAM')-2]))\n",
        "      mem.append(int(temp[temp.index('ROM')-2]))\n",
        "\n",
        "  p = wd.find_elements_by_xpath('//*[@class=\"_1vC4OE _2rQ-NK\"]')\n",
        "  #extract the data\n",
        "  for i in p:\n",
        "    price.append(int(i.text[1:].replace(',',''))) #12999\n",
        "\n",
        "  wd.get(wd.find_element_by_class_name(\"_3fVaIS\").get_attribute('href'))\n",
        "  #link for the next page"
      ],
      "execution_count": null,
      "outputs": []
    },
    {
      "cell_type": "code",
      "metadata": {
        "id": "cfypHZKtPnux",
        "colab_type": "code",
        "colab": {
          "base_uri": "https://localhost:8080/",
          "height": 34
        },
        "outputId": "223f1fd2-728b-49e7-cf31-e40e54aa82b5"
      },
      "source": [
        "print(len(ram),len(mem),len(price))"
      ],
      "execution_count": null,
      "outputs": [
        {
          "output_type": "stream",
          "text": [
            "212 212 216\n"
          ],
          "name": "stdout"
        }
      ]
    },
    {
      "cell_type": "code",
      "metadata": {
        "id": "JwCvt70iNtfr",
        "colab_type": "code",
        "colab": {
          "base_uri": "https://localhost:8080/",
          "height": 34
        },
        "outputId": "eca0e14b-4a19-4267-a6e2-230da9e9a203"
      },
      "source": [
        "import numpy as np\n",
        "x=np.array((ram,mem)).T\n",
        "y=np.array(price[:-4])\n",
        "#print(int(len(x_train*0.8)))\n",
        "print(x.shape,y.shape)"
      ],
      "execution_count": null,
      "outputs": [
        {
          "output_type": "stream",
          "text": [
            "(212, 2) (212,)\n"
          ],
          "name": "stdout"
        }
      ]
    },
    {
      "cell_type": "code",
      "metadata": {
        "id": "e1N6ObVUP8Dw",
        "colab_type": "code",
        "colab": {}
      },
      "source": [
        "import pandas as pd\n",
        "X=pd.DataFrame(x,columns=['RAM','ROM'])\n",
        "Y=pd.DataFrame(y,columns=[\"Price\"])"
      ],
      "execution_count": null,
      "outputs": []
    },
    {
      "cell_type": "code",
      "metadata": {
        "id": "Dhhkb8meTjmz",
        "colab_type": "code",
        "colab": {}
      },
      "source": [
        ""
      ],
      "execution_count": null,
      "outputs": []
    },
    {
      "cell_type": "code",
      "metadata": {
        "id": "ewJnmgcRNo1H",
        "colab_type": "code",
        "colab": {}
      },
      "source": [
        "#train ing the model\n",
        "from sklearn.linear_model import LinearRegression\n",
        "from sklearn.model_selection import train_test_split\n",
        "x_train,x_test,y_train,y_test=train_test_split(X,Y,test_size=0.2,random_state=101)"
      ],
      "execution_count": null,
      "outputs": []
    },
    {
      "cell_type": "code",
      "metadata": {
        "id": "Q-apgcaaM8Bd",
        "colab_type": "code",
        "colab": {}
      },
      "source": [
        "lm=LinearRegression()"
      ],
      "execution_count": null,
      "outputs": []
    },
    {
      "cell_type": "code",
      "metadata": {
        "id": "xak6S9ZoNJiI",
        "colab_type": "code",
        "colab": {
          "base_uri": "https://localhost:8080/",
          "height": 34
        },
        "outputId": "0b47f566-786a-4852-81af-ae693f720668"
      },
      "source": [
        "lm.fit(x_train,y_train)"
      ],
      "execution_count": null,
      "outputs": [
        {
          "output_type": "execute_result",
          "data": {
            "text/plain": [
              "LinearRegression(copy_X=True, fit_intercept=True, n_jobs=None, normalize=False)"
            ]
          },
          "metadata": {
            "tags": []
          },
          "execution_count": 49
        }
      ]
    },
    {
      "cell_type": "code",
      "metadata": {
        "id": "EZ942GmiS_vx",
        "colab_type": "code",
        "colab": {
          "base_uri": "https://localhost:8080/",
          "height": 50
        },
        "outputId": "03c50934-bfa9-47bf-d247-f19b5d15c22c"
      },
      "source": [
        "print(lm.intercept_)\n",
        "print(lm.coef_)"
      ],
      "execution_count": null,
      "outputs": [
        {
          "output_type": "stream",
          "text": [
            "[11624.22148208]\n",
            "[[-218.79913002   38.53874487]]\n"
          ],
          "name": "stdout"
        }
      ]
    },
    {
      "cell_type": "code",
      "metadata": {
        "id": "jzj37QRqTNQl",
        "colab_type": "code",
        "colab": {
          "base_uri": "https://localhost:8080/",
          "height": 106
        },
        "outputId": "3359e45d-e1bc-426b-d592-f880bfb96f6a"
      },
      "source": [
        "cdf=pd.DataFrame(data=lm.coef_.reshape(2,1),index=x_train.columns,columns=['Coeff'])\n",
        "cdf"
      ],
      "execution_count": null,
      "outputs": [
        {
          "output_type": "execute_result",
          "data": {
            "text/html": [
              "<div>\n",
              "<style scoped>\n",
              "    .dataframe tbody tr th:only-of-type {\n",
              "        vertical-align: middle;\n",
              "    }\n",
              "\n",
              "    .dataframe tbody tr th {\n",
              "        vertical-align: top;\n",
              "    }\n",
              "\n",
              "    .dataframe thead th {\n",
              "        text-align: right;\n",
              "    }\n",
              "</style>\n",
              "<table border=\"1\" class=\"dataframe\">\n",
              "  <thead>\n",
              "    <tr style=\"text-align: right;\">\n",
              "      <th></th>\n",
              "      <th>Coeff</th>\n",
              "    </tr>\n",
              "  </thead>\n",
              "  <tbody>\n",
              "    <tr>\n",
              "      <th>RAM</th>\n",
              "      <td>-218.799130</td>\n",
              "    </tr>\n",
              "    <tr>\n",
              "      <th>ROM</th>\n",
              "      <td>38.538745</td>\n",
              "    </tr>\n",
              "  </tbody>\n",
              "</table>\n",
              "</div>"
            ],
            "text/plain": [
              "          Coeff\n",
              "RAM -218.799130\n",
              "ROM   38.538745"
            ]
          },
          "metadata": {
            "tags": []
          },
          "execution_count": 54
        }
      ]
    },
    {
      "cell_type": "code",
      "metadata": {
        "id": "lYfzFcHlT2ys",
        "colab_type": "code",
        "colab": {
          "base_uri": "https://localhost:8080/",
          "height": 282
        },
        "outputId": "6d7b5599-5892-444f-f32a-5254d07d08f7"
      },
      "source": [
        "import matplotlib.pyplot as plt\n",
        "predictions=lm.predict(x_test)\n",
        "plt.scatter(y_test,predictions)"
      ],
      "execution_count": null,
      "outputs": [
        {
          "output_type": "execute_result",
          "data": {
            "text/plain": [
              "<matplotlib.collections.PathCollection at 0x7fcb1bb346d8>"
            ]
          },
          "metadata": {
            "tags": []
          },
          "execution_count": 51
        },
        {
          "output_type": "display_data",
          "data": {
            "image/png": "[encoded data removed]",
            "text/plain": [
              "<Figure size 432x288 with 1 Axes>"
            ]
          },
          "metadata": {
            "tags": [],
            "needs_background": "light"
          }
        }
      ]
    },
    {
      "cell_type": "code",
      "metadata": {
        "id": "WungiUbBUGRS",
        "colab_type": "code",
        "colab": {
          "base_uri": "https://localhost:8080/",
          "height": 50
        },
        "outputId": "5fad00c2-8ddc-4060-a718-ce15d28b1068"
      },
      "source": [
        "from sklearn import metrics\n",
        "print('MAE:',metrics.mean_absolute_error(y_test,predictions))\n",
        "print('RMSE:',np.sqrt(metrics.mean_squared_error(y_test,predictions)))"
      ],
      "execution_count": null,
      "outputs": [
        {
          "output_type": "stream",
          "text": [
            "MAE: 5070.725557898731\n",
            "RMSE: 7107.473839075977\n"
          ],
          "name": "stdout"
        }
      ]
    },
    {
      "cell_type": "code",
      "metadata": {
        "id": "nbBdyroiUegs",
        "colab_type": "code",
        "colab": {}
      },
      "source": [
        ""
      ],
      "execution_count": null,
      "outputs": []
    }
  ]
}